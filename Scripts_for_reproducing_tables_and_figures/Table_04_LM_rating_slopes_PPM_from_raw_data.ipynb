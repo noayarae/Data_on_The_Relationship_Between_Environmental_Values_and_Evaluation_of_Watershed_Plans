{
  "nbformat": 4,
  "nbformat_minor": 0,
  "metadata": {
    "colab": {
      "provenance": []
    },
    "kernelspec": {
      "name": "ir",
      "display_name": "R"
    },
    "language_info": {
      "name": "R"
    }
  },
  "cells": [
    {
      "cell_type": "markdown",
      "source": [
        "# **Description**:\n",
        "\n",
        "This script was developed to replicate Table 4 on the manuscript \"Relationship Between Environmental Values and the Evaluation of Watershed Conservation Plans that Benefit the Community Versus the Individual.\" It is designed to be executed in R.\n",
        "\n",
        "Use R Colab version for replication in a cloud-based environment using the R kernel.\n",
        "\n",
        "To prepare the final Figure for presentation in the manuscript, the resulting values were formatted in Excel."
      ],
      "metadata": {
        "id": "GP4PQfo-O_Xi"
      }
    },
    {
      "cell_type": "markdown",
      "source": [
        "## Install libraries\n",
        "\n",
        "Installing libraries in R-colab may take some minutes"
      ],
      "metadata": {
        "id": "HD--PyGePIRL"
      }
    },
    {
      "cell_type": "code",
      "execution_count": 1,
      "metadata": {
        "colab": {
          "base_uri": "https://localhost:8080/"
        },
        "id": "CEqTa5bIOSlY",
        "outputId": "7126e393-06c9-4205-99db-7bd8a32fdc23"
      },
      "outputs": [
        {
          "output_type": "stream",
          "name": "stderr",
          "text": [
            "\n",
            "Attaching package: ‘dplyr’\n",
            "\n",
            "\n",
            "The following objects are masked from ‘package:stats’:\n",
            "\n",
            "    filter, lag\n",
            "\n",
            "\n",
            "The following objects are masked from ‘package:base’:\n",
            "\n",
            "    intersect, setdiff, setequal, union\n",
            "\n",
            "\n"
          ]
        }
      ],
      "source": [
        "# Load the necessary library for data manipulation.\n",
        "library(dplyr)"
      ]
    },
    {
      "cell_type": "markdown",
      "source": [
        "### Set working directory\n",
        "\n",
        "No needed in R-Colab. For R-colab, upload the required file to session storage"
      ],
      "metadata": {
        "id": "ZVtnk2B6PPOp"
      }
    },
    {
      "cell_type": "code",
      "source": [
        "### Set the working director\n",
        "setwd(\"E:/OSU_PC_D_drive/research/thesis_papers/Paper_02_DM_Human_values/analysis/002_obj2c_gradient_of_ratings_PPM\")"
      ],
      "metadata": {
        "id": "Cp3zYISsOYri"
      },
      "execution_count": null,
      "outputs": []
    },
    {
      "cell_type": "markdown",
      "source": [
        "### **Load data**"
      ],
      "metadata": {
        "id": "dfMKDwntPokH"
      }
    },
    {
      "cell_type": "code",
      "source": [
        "# 1. Load the raw dataset (CSV format)\n",
        "df <- read.csv(\"Rating_of_participants_to_the_suggested_plans.csv\")\n",
        "head(df)#; names(df)"
      ],
      "metadata": {
        "colab": {
          "base_uri": "https://localhost:8080/",
          "height": 286
        },
        "id": "VaOiHTjROfUv",
        "outputId": "3db2106b-97ff-4a07-ab45-cb0c8029a00b"
      },
      "execution_count": 3,
      "outputs": [
        {
          "output_type": "display_data",
          "data": {
            "text/html": [
              "<table class=\"dataframe\">\n",
              "<caption>A data.frame: 6 × 22</caption>\n",
              "<thead>\n",
              "\t<tr><th></th><th scope=col>Particip</th><th scope=col>pid</th><th scope=col>SP1</th><th scope=col>SP2</th><th scope=col>SP3</th><th scope=col>SP4</th><th scope=col>SP5</th><th scope=col>SP6</th><th scope=col>SP7</th><th scope=col>SP8</th><th scope=col>⋯</th><th scope=col>SP11</th><th scope=col>SP12</th><th scope=col>SP13</th><th scope=col>SP14</th><th scope=col>SP15</th><th scope=col>SP16</th><th scope=col>SP17</th><th scope=col>SP18</th><th scope=col>SP19</th><th scope=col>SP20</th></tr>\n",
              "\t<tr><th></th><th scope=col>&lt;chr&gt;</th><th scope=col>&lt;chr&gt;</th><th scope=col>&lt;int&gt;</th><th scope=col>&lt;int&gt;</th><th scope=col>&lt;int&gt;</th><th scope=col>&lt;int&gt;</th><th scope=col>&lt;int&gt;</th><th scope=col>&lt;int&gt;</th><th scope=col>&lt;int&gt;</th><th scope=col>&lt;int&gt;</th><th scope=col>⋯</th><th scope=col>&lt;int&gt;</th><th scope=col>&lt;int&gt;</th><th scope=col>&lt;int&gt;</th><th scope=col>&lt;int&gt;</th><th scope=col>&lt;int&gt;</th><th scope=col>&lt;int&gt;</th><th scope=col>&lt;int&gt;</th><th scope=col>&lt;int&gt;</th><th scope=col>&lt;int&gt;</th><th scope=col>&lt;int&gt;</th></tr>\n",
              "</thead>\n",
              "<tbody>\n",
              "\t<tr><th scope=row>1</th><td>End-user</td><td>p1</td><td>7</td><td>6</td><td>5</td><td>5</td><td>5</td><td>6</td><td>4</td><td>5</td><td>⋯</td><td>4</td><td>5</td><td>5</td><td>5</td><td>4</td><td>4</td><td>4</td><td>5</td><td>3</td><td>3</td></tr>\n",
              "\t<tr><th scope=row>2</th><td>End-user</td><td>p2</td><td>7</td><td>5</td><td>6</td><td>5</td><td>6</td><td>5</td><td>4</td><td>4</td><td>⋯</td><td>3</td><td>2</td><td>4</td><td>4</td><td>4</td><td>2</td><td>3</td><td>3</td><td>3</td><td>1</td></tr>\n",
              "\t<tr><th scope=row>3</th><td>End-user</td><td>p3</td><td>7</td><td>6</td><td>6</td><td>5</td><td>6</td><td>5</td><td>4</td><td>4</td><td>⋯</td><td>2</td><td>3</td><td>4</td><td>4</td><td>4</td><td>3</td><td>3</td><td>3</td><td>3</td><td>2</td></tr>\n",
              "\t<tr><th scope=row>4</th><td>End-user</td><td>p4</td><td>7</td><td>5</td><td>4</td><td>3</td><td>5</td><td>6</td><td>3</td><td>4</td><td>⋯</td><td>4</td><td>2</td><td>3</td><td>3</td><td>2</td><td>1</td><td>4</td><td>4</td><td>2</td><td>1</td></tr>\n",
              "\t<tr><th scope=row>5</th><td>End-user</td><td>p5</td><td>6</td><td>6</td><td>5</td><td>4</td><td>6</td><td>6</td><td>5</td><td>4</td><td>⋯</td><td>5</td><td>4</td><td>6</td><td>5</td><td>6</td><td>4</td><td>5</td><td>6</td><td>5</td><td>5</td></tr>\n",
              "\t<tr><th scope=row>6</th><td>End-user</td><td>p6</td><td>6</td><td>6</td><td>6</td><td>5</td><td>6</td><td>6</td><td>5</td><td>4</td><td>⋯</td><td>5</td><td>4</td><td>5</td><td>5</td><td>5</td><td>3</td><td>4</td><td>5</td><td>5</td><td>3</td></tr>\n",
              "</tbody>\n",
              "</table>\n"
            ],
            "text/markdown": "\nA data.frame: 6 × 22\n\n| <!--/--> | Particip &lt;chr&gt; | pid &lt;chr&gt; | SP1 &lt;int&gt; | SP2 &lt;int&gt; | SP3 &lt;int&gt; | SP4 &lt;int&gt; | SP5 &lt;int&gt; | SP6 &lt;int&gt; | SP7 &lt;int&gt; | SP8 &lt;int&gt; | ⋯ ⋯ | SP11 &lt;int&gt; | SP12 &lt;int&gt; | SP13 &lt;int&gt; | SP14 &lt;int&gt; | SP15 &lt;int&gt; | SP16 &lt;int&gt; | SP17 &lt;int&gt; | SP18 &lt;int&gt; | SP19 &lt;int&gt; | SP20 &lt;int&gt; |\n|---|---|---|---|---|---|---|---|---|---|---|---|---|---|---|---|---|---|---|---|---|---|\n| 1 | End-user | p1 | 7 | 6 | 5 | 5 | 5 | 6 | 4 | 5 | ⋯ | 4 | 5 | 5 | 5 | 4 | 4 | 4 | 5 | 3 | 3 |\n| 2 | End-user | p2 | 7 | 5 | 6 | 5 | 6 | 5 | 4 | 4 | ⋯ | 3 | 2 | 4 | 4 | 4 | 2 | 3 | 3 | 3 | 1 |\n| 3 | End-user | p3 | 7 | 6 | 6 | 5 | 6 | 5 | 4 | 4 | ⋯ | 2 | 3 | 4 | 4 | 4 | 3 | 3 | 3 | 3 | 2 |\n| 4 | End-user | p4 | 7 | 5 | 4 | 3 | 5 | 6 | 3 | 4 | ⋯ | 4 | 2 | 3 | 3 | 2 | 1 | 4 | 4 | 2 | 1 |\n| 5 | End-user | p5 | 6 | 6 | 5 | 4 | 6 | 6 | 5 | 4 | ⋯ | 5 | 4 | 6 | 5 | 6 | 4 | 5 | 6 | 5 | 5 |\n| 6 | End-user | p6 | 6 | 6 | 6 | 5 | 6 | 6 | 5 | 4 | ⋯ | 5 | 4 | 5 | 5 | 5 | 3 | 4 | 5 | 5 | 3 |\n\n",
            "text/latex": "A data.frame: 6 × 22\n\\begin{tabular}{r|lllllllllllllllllllll}\n  & Particip & pid & SP1 & SP2 & SP3 & SP4 & SP5 & SP6 & SP7 & SP8 & ⋯ & SP11 & SP12 & SP13 & SP14 & SP15 & SP16 & SP17 & SP18 & SP19 & SP20\\\\\n  & <chr> & <chr> & <int> & <int> & <int> & <int> & <int> & <int> & <int> & <int> & ⋯ & <int> & <int> & <int> & <int> & <int> & <int> & <int> & <int> & <int> & <int>\\\\\n\\hline\n\t1 & End-user & p1 & 7 & 6 & 5 & 5 & 5 & 6 & 4 & 5 & ⋯ & 4 & 5 & 5 & 5 & 4 & 4 & 4 & 5 & 3 & 3\\\\\n\t2 & End-user & p2 & 7 & 5 & 6 & 5 & 6 & 5 & 4 & 4 & ⋯ & 3 & 2 & 4 & 4 & 4 & 2 & 3 & 3 & 3 & 1\\\\\n\t3 & End-user & p3 & 7 & 6 & 6 & 5 & 6 & 5 & 4 & 4 & ⋯ & 2 & 3 & 4 & 4 & 4 & 3 & 3 & 3 & 3 & 2\\\\\n\t4 & End-user & p4 & 7 & 5 & 4 & 3 & 5 & 6 & 3 & 4 & ⋯ & 4 & 2 & 3 & 3 & 2 & 1 & 4 & 4 & 2 & 1\\\\\n\t5 & End-user & p5 & 6 & 6 & 5 & 4 & 6 & 6 & 5 & 4 & ⋯ & 5 & 4 & 6 & 5 & 6 & 4 & 5 & 6 & 5 & 5\\\\\n\t6 & End-user & p6 & 6 & 6 & 6 & 5 & 6 & 6 & 5 & 4 & ⋯ & 5 & 4 & 5 & 5 & 5 & 3 & 4 & 5 & 5 & 3\\\\\n\\end{tabular}\n",
            "text/plain": [
              "  Particip pid SP1 SP2 SP3 SP4 SP5 SP6 SP7 SP8 ⋯ SP11 SP12 SP13 SP14 SP15 SP16\n",
              "1 End-user p1  7   6   5   5   5   6   4   5   ⋯ 4    5    5    5    4    4   \n",
              "2 End-user p2  7   5   6   5   6   5   4   4   ⋯ 3    2    4    4    4    2   \n",
              "3 End-user p3  7   6   6   5   6   5   4   4   ⋯ 2    3    4    4    4    3   \n",
              "4 End-user p4  7   5   4   3   5   6   3   4   ⋯ 4    2    3    3    2    1   \n",
              "5 End-user p5  6   6   5   4   6   6   5   4   ⋯ 5    4    6    5    6    4   \n",
              "6 End-user p6  6   6   6   5   6   6   5   4   ⋯ 5    4    5    5    5    3   \n",
              "  SP17 SP18 SP19 SP20\n",
              "1 4    5    3    3   \n",
              "2 3    3    3    1   \n",
              "3 3    3    3    2   \n",
              "4 4    4    2    1   \n",
              "5 5    6    5    5   \n",
              "6 4    5    5    3   "
            ]
          },
          "metadata": {}
        }
      ]
    },
    {
      "cell_type": "markdown",
      "source": [
        "### **2. Reshaping the DB in four groups**"
      ],
      "metadata": {
        "id": "21xnmXQyPtVw"
      }
    },
    {
      "cell_type": "code",
      "source": [
        "# 2. Reshaping the DB in four groups\n",
        "plan_groups <- list(\n",
        "  c(\"SP1\", \"SP5\", \"SP9\", \"SP13\", \"SP17\"),\n",
        "  c(\"SP2\", \"SP6\", \"SP10\", \"SP14\", \"SP18\"),\n",
        "  c(\"SP3\", \"SP7\", \"SP11\", \"SP15\", \"SP19\"),\n",
        "  c(\"SP4\", \"SP8\", \"SP12\", \"SP16\", \"SP20\")\n",
        ")\n",
        "\n",
        "reshaped_dfs_list <- lapply(plan_groups, function(sp_cols) {\n",
        "  df %>%\n",
        "    # Select the participant info and the specific group's columns\n",
        "    select(Particip, pid, all_of(sp_cols)) %>%\n",
        "    # Rename the columns to generic group names for consistent stacking\n",
        "    rename(\n",
        "      group_1 = all_of(sp_cols[1]),\n",
        "      group_2 = all_of(sp_cols[2]),\n",
        "      group_3 = all_of(sp_cols[3]),\n",
        "      group_4 = all_of(sp_cols[4]),\n",
        "      group_5 = all_of(sp_cols[5])\n",
        "    ) %>%\n",
        "    # Create the `SPs_G` columns based on the original column names\n",
        "    mutate(\n",
        "      SPs_G1 = sp_cols[1],\n",
        "      SPs_G2 = sp_cols[2],\n",
        "      SPs_G3 = sp_cols[3],\n",
        "      SPs_G4 = sp_cols[4],\n",
        "      SPs_G5 = sp_cols[5]\n",
        "    ) %>%\n",
        "    # Reorder the columns to the final desired format\n",
        "    select(\n",
        "      Particip, pid,\n",
        "      SPs_G1, group_1,\n",
        "      SPs_G2, group_2,\n",
        "      SPs_G3, group_3,\n",
        "      SPs_G4, group_4,\n",
        "      SPs_G5, group_5\n",
        "    )\n",
        "})\n",
        "# Combining all four data frames from the list into a single one.\n",
        "df_by_groups <- bind_rows(reshaped_dfs_list) %>%\n",
        "  mutate(order = rep(c(4, 3, 2, 1), each = 77)) # Add the 'order' of SPs\n",
        "print(tail(df_by_groups))"
      ],
      "metadata": {
        "colab": {
          "base_uri": "https://localhost:8080/"
        },
        "id": "7z2EKsGOOwsJ",
        "outputId": "012c65c9-4c9a-4726-9ec3-241533368c1d"
      },
      "execution_count": 5,
      "outputs": [
        {
          "output_type": "stream",
          "name": "stdout",
          "text": [
            "     Particip pid SPs_G1 group_1 SPs_G2 group_2 SPs_G3 group_3 SPs_G4 group_4\n",
            "303 Test-user p72    SP4       5    SP8       4   SP12       2   SP16       2\n",
            "304 Test-user p73    SP4       2    SP8       2   SP12       2   SP16       2\n",
            "305 Test-user p74    SP4       3    SP8       2   SP12       2   SP16       4\n",
            "306 Test-user p75    SP4       1    SP8       2   SP12       2   SP16       1\n",
            "307 Test-user p76    SP4       4    SP8       4   SP12       3   SP16       2\n",
            "308 Test-user p77    SP4       5    SP8       4   SP12       4   SP16       4\n",
            "    SPs_G5 group_5 order\n",
            "303   SP20       2     1\n",
            "304   SP20       2     1\n",
            "305   SP20       2     1\n",
            "306   SP20       5     1\n",
            "307   SP20       2     1\n",
            "308   SP20       4     1\n"
          ]
        }
      ]
    },
    {
      "cell_type": "markdown",
      "source": [
        "### **3. Create a function to perform the linear regression**"
      ],
      "metadata": {
        "id": "nqWawqlBPygd"
      }
    },
    {
      "cell_type": "code",
      "source": [
        "# 3. Create a function to perform the linear regression\n",
        "analyze_group <- function(group_col) {\n",
        "  formula_str <- paste(group_col, \"~ order\")\n",
        "  lm_model <- lm(as.formula(formula_str), data = df_by_groups)\n",
        "  lm_summary <- summary(lm_model)\n",
        "\n",
        "  # Extract all the specific values to report\n",
        "  intercept_est <- lm_summary$coefficients[1, \"Estimate\"]\n",
        "  order_est <- lm_summary$coefficients[2, \"Estimate\"]\n",
        "  std_error <- lm_summary$coefficients[2, \"Std. Error\"]\n",
        "  r_squared <- lm_summary$r.squared\n",
        "  f_statistic <- lm_summary$fstatistic[1]\n",
        "\n",
        "  # Calculate the p-value for the F-statistic\n",
        "  p_value <- pf(lm_summary$fstatistic[1], lm_summary$fstatistic[2], lm_summary$fstatistic[3], lower.tail = FALSE)\n",
        "\n",
        "  # Create a data frame (a single row) with the results and return it\n",
        "  results <- data.frame(\n",
        "    Group = group_col,\n",
        "    Intercept = intercept_est,\n",
        "    Slope = order_est,\n",
        "    p_value = p_value,\n",
        "    R_squared = r_squared,\n",
        "    Std_Error = std_error,\n",
        "    F_stat = f_statistic,\n",
        "    stringsAsFactors = FALSE\n",
        "  )\n",
        "  return(results)\n",
        "}\n",
        "\n",
        "# Loop to iterate over the group columns and call the function\n",
        "group_columns <- c(\"group_1\", \"group_2\", \"group_3\", \"group_4\", \"group_5\")\n",
        "\n",
        "results_list <- list()\n",
        "for (i in 1:length(group_columns)) {\n",
        "  col <- group_columns[i]\n",
        "  results_list[[i]] <- analyze_group(col)\n",
        "}\n",
        "\n",
        "# Combine all the individual data into a single table\n",
        "final_results_table <- do.call(rbind, results_list)"
      ],
      "metadata": {
        "id": "fLJq_BCQO2cT"
      },
      "execution_count": 6,
      "outputs": []
    },
    {
      "cell_type": "markdown",
      "source": [
        "### **4. Table 4. Linear Model Parameters of Participants’ Preferences for Plans**"
      ],
      "metadata": {
        "id": "AC3y3rl1P238"
      }
    },
    {
      "cell_type": "code",
      "source": [
        "# 4. Table 4. Linear Model Parameters of Participants’ Preferences for Plans\n",
        "print(\"Table 4\")\n",
        "print(final_results_table, row.names = FALSE)   # Print the table\n"
      ],
      "metadata": {
        "colab": {
          "base_uri": "https://localhost:8080/"
        },
        "id": "lHwCOHSOO5Ns",
        "outputId": "3694b9c9-352b-4671-d8af-61d313e0b724"
      },
      "execution_count": 7,
      "outputs": [
        {
          "output_type": "stream",
          "name": "stdout",
          "text": [
            "[1] \"Table 4\"\n",
            "   Group Intercept     Slope      p_value R_squared  Std_Error    F_stat\n",
            " group_1  3.214286 0.8103896 2.229807e-36 0.4050515 0.05614586 208.33023\n",
            " group_2  2.837662 0.7649351 4.893257e-40 0.4367879 0.04965517 237.31222\n",
            " group_3  2.948052 0.6142857 1.609731e-23 0.2788891 0.05646704 118.34526\n",
            " group_4  2.480519 0.6077922 1.722847e-21 0.2567209 0.05912073 105.68923\n",
            " group_5  2.246753 0.5506494 4.363481e-16 0.1944618 0.06406789  73.87023\n"
          ]
        }
      ]
    }
  ]
}