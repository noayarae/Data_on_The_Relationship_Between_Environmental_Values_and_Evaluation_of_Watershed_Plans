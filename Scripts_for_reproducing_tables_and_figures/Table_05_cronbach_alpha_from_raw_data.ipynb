{
  "nbformat": 4,
  "nbformat_minor": 0,
  "metadata": {
    "colab": {
      "provenance": []
    },
    "kernelspec": {
      "name": "ir",
      "display_name": "R"
    },
    "language_info": {
      "name": "R"
    }
  },
  "cells": [
    {
      "cell_type": "markdown",
      "source": [
        "# **Description**:\n",
        "\n",
        "This script was developed to replicate Table 5 on the manuscript \"Relationship Between Environmental Values and the Evaluation of Watershed Conservation Plans that Benefit the Community Versus the Individual.\" It is designed to be executed in R.\n",
        "\n",
        "Use R Colab version for replication in a cloud-based environment using the R kernel.\n",
        "\n",
        "To prepare the final Figure for presentation in the manuscript, the resulting values were formatted in Excel."
      ],
      "metadata": {
        "id": "Wq-lPQT2RKf5"
      }
    },
    {
      "cell_type": "markdown",
      "source": [
        "**Analysis**: Cronbach Alpha Values for Environmental Values\n",
        "\n",
        "**Project**: Relationship Between Environmental Values and the Evaluation of Watershed Conservation Plans that Benefit the Community Versus the Individual\n",
        "\n",
        "**Author**: Efrain Noa Yarasca PhD.\n",
        "\n",
        "**Input**:  'Rating_of_participants_to_the_suggested_plans.csv'\n",
        "\n",
        "**Output**: 'Table 5'"
      ],
      "metadata": {
        "id": "h01V4PWPSGMS"
      }
    },
    {
      "cell_type": "markdown",
      "source": [
        "## Install libraries\n",
        "\n",
        "Installing libraries in R-colab may take some minutes"
      ],
      "metadata": {
        "id": "fBlb6HE5STw-"
      }
    },
    {
      "cell_type": "code",
      "source": [
        "# # install required libraries\n",
        "install.packages(\"psych\")\n",
        "library(psych)"
      ],
      "metadata": {
        "colab": {
          "base_uri": "https://localhost:8080/"
        },
        "id": "pjFkmxWtRzcw",
        "outputId": "d7b57eca-10b9-40e9-d30e-dbe48449c4b3"
      },
      "execution_count": 5,
      "outputs": [
        {
          "output_type": "stream",
          "name": "stderr",
          "text": [
            "Installing package into ‘/usr/local/lib/R/site-library’\n",
            "(as ‘lib’ is unspecified)\n",
            "\n",
            "also installing the dependencies ‘mnormt’, ‘GPArotation’\n",
            "\n",
            "\n"
          ]
        }
      ]
    },
    {
      "cell_type": "markdown",
      "source": [
        "### Set working directory\n",
        "\n",
        "No needed in R-Colab. For R-colab, upload the required file to session storage"
      ],
      "metadata": {
        "id": "5ikmYXumSX1w"
      }
    },
    {
      "cell_type": "code",
      "execution_count": null,
      "metadata": {
        "id": "yCSuU6RRRGL1"
      },
      "outputs": [],
      "source": [
        "setwd(\"D:/work/research_o/paper_02/replica\")"
      ]
    },
    {
      "cell_type": "markdown",
      "source": [
        "### **Load data**"
      ],
      "metadata": {
        "id": "_dMBaubhSaxE"
      }
    },
    {
      "cell_type": "code",
      "source": [
        "# Load data\n",
        "input_file = 'EPVQ_score_data.csv'"
      ],
      "metadata": {
        "id": "TiV78i9-RbPk"
      },
      "execution_count": 6,
      "outputs": []
    },
    {
      "cell_type": "markdown",
      "source": [
        "### **Create a function to perform the analysis**"
      ],
      "metadata": {
        "id": "2-jcu-QaSgG-"
      }
    },
    {
      "cell_type": "code",
      "source": [
        "# Define the column names for each Human-value\n",
        "bio_cols <- c(\"e.pvq1\", \"e.pvq2\", \"e.pvq3\", \"e.pvq4\")\n",
        "alt_cols <- c(\"e.pvq5\", \"e.pvq6\", \"e.pvq7\", \"e.pvq8\", \"e.pvq9\")\n",
        "hed_cols <- c(\"e.pvq10\", \"e.pvq11\", \"e.pvq12\")\n",
        "ego_cols <- c(\"e.pvq13\", \"e.pvq14\", \"e.pvq15\", \"e.pvq16\", \"e.pvq17\")\n",
        "\n",
        "# Create a function to perform the analysis for a given file\n",
        "calculate_and_print_alpha <- function(filename, group_label) {\n",
        "\n",
        "  # Load the data from the specified file\n",
        "  df_all <- read.csv(filename)\n",
        "  df <- subset(df_all, Particip == group_label)[ , !(names(df_all) %in% c(\"Particip\", \"pid\"))]\n",
        "\n",
        "  # Perform Cronbach's Alpha analysis for each variable\n",
        "  alpha_results <- list(\n",
        "    Bio = alpha(df[, bio_cols]),\n",
        "    Alt = alpha(df[, alt_cols]),\n",
        "    Hed = alpha(df[, hed_cols]),\n",
        "    Ego = alpha(df[, ego_cols])\n",
        "  )\n",
        "\n",
        "  # Create a data frame to store the results\n",
        "  alpha_table <- data.frame(\n",
        "    Variable = character(),\n",
        "    Cronbach_Alpha = numeric(),\n",
        "    stringsAsFactors = FALSE\n",
        "  )\n",
        "  for (variable in names(alpha_results)) {\n",
        "    alpha_value <- alpha_results[[variable]]$total$raw_alpha\n",
        "    alpha_table <- rbind(alpha_table, data.frame(Variable = variable, Cronbach_Alpha = alpha_value))\n",
        "  }\n",
        "\n",
        "  # Print the results\n",
        "  cat(\"\\n--------------------------------------------------------------\")\n",
        "  cat(\"\\nCronbach's Alpha Results for:\", group_label, \"\\n\")\n",
        "  cat(\"-------------------------------------------------------------- \\n\")\n",
        "\n",
        "  print(alpha_table, row.names = FALSE)\n",
        "}"
      ],
      "metadata": {
        "id": "MxROgdn_RbKW"
      },
      "execution_count": 7,
      "outputs": []
    },
    {
      "cell_type": "markdown",
      "source": [
        "### **Cronbach's Alpha for 'Test-users'**"
      ],
      "metadata": {
        "id": "7VBBdfPOSo0H"
      }
    },
    {
      "cell_type": "code",
      "source": [
        "# Call the function for 'Test-users' and 'End-users'\n",
        "calculate_and_print_alpha(input_file, 'Test-user')"
      ],
      "metadata": {
        "colab": {
          "base_uri": "https://localhost:8080/"
        },
        "id": "mXgoavBpRbEk",
        "outputId": "eea8596e-9e96-4128-c41e-33bb29a13f38"
      },
      "execution_count": 8,
      "outputs": [
        {
          "output_type": "stream",
          "name": "stdout",
          "text": [
            "\n",
            "--------------------------------------------------------------\n",
            "Cronbach's Alpha Results for: Test-user \n",
            "-------------------------------------------------------------- \n",
            " Variable Cronbach_Alpha\n",
            "      Bio      0.7888297\n",
            "      Alt      0.8153639\n",
            "      Hed      0.7297151\n",
            "      Ego      0.7316494\n"
          ]
        }
      ]
    },
    {
      "cell_type": "markdown",
      "source": [
        "### **Cronbach's Alpha for 'End-users'**"
      ],
      "metadata": {
        "id": "quaXBUnIS38b"
      }
    },
    {
      "cell_type": "code",
      "source": [
        "# Call the function for 'Test-users' and 'End-users'\n",
        "calculate_and_print_alpha(input_file, 'End-user')"
      ],
      "metadata": {
        "colab": {
          "base_uri": "https://localhost:8080/"
        },
        "id": "e4lutLozRqb9",
        "outputId": "71a7ca9d-b00e-4978-dc17-69c8b5adf12a"
      },
      "execution_count": 9,
      "outputs": [
        {
          "output_type": "stream",
          "name": "stdout",
          "text": [
            "\n",
            "--------------------------------------------------------------\n",
            "Cronbach's Alpha Results for: End-user \n",
            "-------------------------------------------------------------- \n",
            " Variable Cronbach_Alpha\n",
            "      Bio      0.6417011\n",
            "      Alt      0.7494959\n",
            "      Hed      0.6418641\n",
            "      Ego      0.7674555\n"
          ]
        }
      ]
    }
  ]
}