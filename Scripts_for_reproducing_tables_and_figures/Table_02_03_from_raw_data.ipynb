{
  "nbformat": 4,
  "nbformat_minor": 0,
  "metadata": {
    "colab": {
      "provenance": []
    },
    "kernelspec": {
      "name": "ir",
      "display_name": "R"
    },
    "language_info": {
      "name": "R"
    }
  },
  "cells": [
    {
      "cell_type": "markdown",
      "source": [
        "# **Description**:\n",
        "\n",
        "This script was developed to replicate Table 2 and Table 3 on the manuscript \"Relationship Between Environmental Values and the Evaluation of Watershed Conservation Plans that Benefit the Community Versus the Individual.\" It is designed to be executed in R.\n",
        "\n",
        "Use R Colab version for replication in a cloud-based environment using the R kernel.\n",
        "\n",
        "To prepare the final Figure for presentation in the manuscript, the resulting values were formatted in Excel."
      ],
      "metadata": {
        "id": "rNq6A8EAMZeA"
      }
    },
    {
      "cell_type": "markdown",
      "source": [
        "### Analysis: ANOVA Results\n",
        "##### Project: Relationship Between Environmental Values and the Evaluation of Watershed Conservation Plans that Benefit the Community Versus the Individual\n",
        "\n",
        "##### Author: Efrain Noa Yarasca PhD.\n",
        "\n",
        "##### Input:  'Rating_of_participants_to_the_suggested_plans.csv'\n",
        "##### Output: 'Table 2' y 'Table 3'"
      ],
      "metadata": {
        "id": "0hqKkUr_MV3d"
      }
    },
    {
      "cell_type": "markdown",
      "source": [
        "## Install libraries\n",
        "\n",
        "Installing libraries in R-colab may take several minutes"
      ],
      "metadata": {
        "id": "X3sYcu5kMyom"
      }
    },
    {
      "cell_type": "code",
      "execution_count": null,
      "metadata": {
        "id": "x5gEHTNiLnY1"
      },
      "outputs": [],
      "source": [
        "# # install required libraries\n",
        "install.packages('ca')\n",
        "install.packages('psych')\n",
        "install.packages('smacof')\n",
        "install.packages('dplyr')\n",
        "library(ca)\n",
        "library(psych)\n",
        "library(smacof)\n",
        "library(dplyr)"
      ]
    },
    {
      "cell_type": "markdown",
      "source": [
        "### Set working directory\n",
        "\n",
        "No needed in R-Colab. For R-colab, upload the required file to session storage"
      ],
      "metadata": {
        "id": "OLbTQaomM2mQ"
      }
    },
    {
      "cell_type": "code",
      "source": [
        "# Set working directory\n",
        "#setwd(\"E:/OSU_PC_D_drive/research/thesis_papers/Paper_02_DM_Human_values/analysis/002_obj_2a_2b_influence_of_benefits\")"
      ],
      "metadata": {
        "id": "ji-DxjLxPXSv"
      },
      "execution_count": null,
      "outputs": []
    },
    {
      "cell_type": "markdown",
      "source": [
        "### **Load data**"
      ],
      "metadata": {
        "id": "5wKOGqB5PZJl"
      }
    },
    {
      "cell_type": "code",
      "source": [
        "# Load data\n",
        "dt <- read.csv('Rating_of_participants_to_the_suggested_plans.csv') # exp2_Stak_NoStak_data.csv\n"
      ],
      "metadata": {
        "id": "NvDMW7--Lr55"
      },
      "execution_count": 1,
      "outputs": []
    },
    {
      "cell_type": "markdown",
      "source": [
        "### **Function to perform ANOVA and print results**"
      ],
      "metadata": {
        "id": "uW2YcZNeNN14"
      }
    },
    {
      "cell_type": "code",
      "source": [
        "#----------------------------------------------------------------------\n",
        "# Function to perform ANOVA and print results\n",
        "#----------------------------------------------------------------------\n",
        "run_anova <- function(data_list, group_labels, title) {\n",
        "  # Combine the data and group labels into a single dataframe\n",
        "  combined_data <- data.frame(\n",
        "    Group = factor(group_labels),\n",
        "    Response = unlist(data_list)\n",
        "  )\n",
        "\n",
        "  anova_result <- aov(Response ~ Group, data = combined_data)\n",
        "  anova_summary <- summary(anova_result)\n",
        "\n",
        "  f_value <- anova_summary[[1]]$`F value`[1]\n",
        "  p_value <- anova_summary[[1]]$`Pr(>F)`[1]\n",
        "\n",
        "  cat(\"\\n--------------------------------------------------------------\")\n",
        "  cat(\"\\n\", title)\n",
        "  cat(\"\\n--------------------------------------------------------------\")\n",
        "  cat(\"\\nF value:\", f_value, \"   Pr(>F):\", p_value, \"\\n\")\n",
        "}"
      ],
      "metadata": {
        "id": "FP316CCYL7sQ"
      },
      "execution_count": 2,
      "outputs": []
    },
    {
      "cell_type": "markdown",
      "source": [
        "### **ANOVA for Objective 2a (Table 2 - manuscript)**"
      ],
      "metadata": {
        "id": "RVuRiC78NYRH"
      }
    },
    {
      "cell_type": "code",
      "source": [
        "# =====================================================================\n",
        "### ANOVA for Objective 2a (Table 2 - paper)\n",
        "### Sub-basin benefits = same & whole-watershed benefits = different\n",
        "#----------------------------------------------------------------------\n",
        "\n",
        "# Define the groups of column numbers to be analyzed\n",
        "obj2a_groups <- list(\n",
        "  c(1, 5, 9, 13, 17),\n",
        "  c(2, 6, 10, 14, 18),\n",
        "  c(3, 7, 11, 15, 19),\n",
        "  c(4, 8, 12, 16, 20)\n",
        ")\n",
        "\n",
        "print(\"Table 2\")\n",
        "# Loop through each group and run the ANOVA\n",
        "for (i in 1:length(obj2a_groups)) {\n",
        "  group_cols <- obj2a_groups[[i]]\n",
        "  group_names <- paste0('SP', sprintf('%02d', group_cols))\n",
        "\n",
        "  # Create a list of the data columns to be combined\n",
        "  data_for_anova <- lapply(group_cols, function(col_num) dt[[paste0('SP', col_num)]])\n",
        "\n",
        "  run_anova(data_for_anova, rep(group_names, each = 77), paste(\"ANOVA for Objective 2a, Group\", i))\n",
        "}\n",
        "#----------------------------------------------------------------------\n"
      ],
      "metadata": {
        "colab": {
          "base_uri": "https://localhost:8080/"
        },
        "id": "bLTiWOuoL-xF",
        "outputId": "3187afa2-0726-48d0-a56c-647b268558ab"
      },
      "execution_count": 3,
      "outputs": [
        {
          "output_type": "stream",
          "name": "stdout",
          "text": [
            "[1] \"Table 2\"\n",
            "\n",
            "--------------------------------------------------------------\n",
            " ANOVA for Objective 2a, Group 1\n",
            "--------------------------------------------------------------\n",
            "F value: 49.13279    Pr(>F): 2.63372e-33 \n",
            "\n",
            "--------------------------------------------------------------\n",
            " ANOVA for Objective 2a, Group 2\n",
            "--------------------------------------------------------------\n",
            "F value: 34.8473    Pr(>F): 8.534076e-25 \n",
            "\n",
            "--------------------------------------------------------------\n",
            " ANOVA for Objective 2a, Group 3\n",
            "--------------------------------------------------------------\n",
            "F value: 18.48411    Pr(>F): 6.827375e-14 \n",
            "\n",
            "--------------------------------------------------------------\n",
            " ANOVA for Objective 2a, Group 4\n",
            "--------------------------------------------------------------\n",
            "F value: 11.0473    Pr(>F): 1.739711e-08 \n"
          ]
        }
      ]
    },
    {
      "cell_type": "markdown",
      "source": [
        "### **ANOVA for Objective 2a (Table 2 - manuscript)**"
      ],
      "metadata": {
        "id": "HZNFXi_GNe3C"
      }
    },
    {
      "cell_type": "code",
      "source": [
        "# =====================================================================\n",
        "### ANOVA for Objective 2b (Table 3 - paper).\n",
        "### Sub-basin benefits = Different & whole-watershed benefits = same\n",
        "#----------------------------------------------------------------------\n",
        "\n",
        "# Define the groups of column numbers to be analyzed\n",
        "obj2b_groups <- list(\n",
        "  c(1, 2, 3, 4),\n",
        "  c(5, 6, 7, 8),\n",
        "  c(9, 10, 11, 12),\n",
        "  c(13, 14, 15, 16),\n",
        "  c(17, 18, 19, 20)\n",
        ")\n",
        "\n",
        "print(\"Table 3\")\n",
        "# Loop through each group and run the ANOVA\n",
        "for (i in 1:length(obj2b_groups)) {\n",
        "  group_cols <- obj2b_groups[[i]]\n",
        "  group_names <- paste0('SP', sprintf('%02d', group_cols))\n",
        "\n",
        "  # Create a list of the data columns to be combined\n",
        "  data_for_anova <- lapply(group_cols, function(col_num) dt[[paste0('SP', col_num)]])\n",
        "\n",
        "  run_anova(data_for_anova, rep(group_names, each = 77), paste(\"ANOVA for Objective 2b, Group\", i))\n",
        "}\n",
        "#----------------------------------------------------------------------"
      ],
      "metadata": {
        "colab": {
          "base_uri": "https://localhost:8080/"
        },
        "id": "XT3gsDYYMAdl",
        "outputId": "e5aebb6a-dae7-4280-83cf-83618d514786"
      },
      "execution_count": 4,
      "outputs": [
        {
          "output_type": "stream",
          "name": "stdout",
          "text": [
            "[1] \"Table 3\"\n",
            "\n",
            "--------------------------------------------------------------\n",
            " ANOVA for Objective 2b, Group 1\n",
            "--------------------------------------------------------------\n",
            "F value: 70.04551    Pr(>F): 1.841008e-34 \n",
            "\n",
            "--------------------------------------------------------------\n",
            " ANOVA for Objective 2b, Group 2\n",
            "--------------------------------------------------------------\n",
            "F value: 79.61205    Pr(>F): 4.955527e-38 \n",
            "\n",
            "--------------------------------------------------------------\n",
            " ANOVA for Objective 2b, Group 3\n",
            "--------------------------------------------------------------\n",
            "F value: 43.58096    Pr(>F): 1.871767e-23 \n",
            "\n",
            "--------------------------------------------------------------\n",
            " ANOVA for Objective 2b, Group 4\n",
            "--------------------------------------------------------------\n",
            "F value: 35.43428    Pr(>F): 1.148325e-19 \n",
            "\n",
            "--------------------------------------------------------------\n",
            " ANOVA for Objective 2b, Group 5\n",
            "--------------------------------------------------------------\n",
            "F value: 25.15273    Pr(>F): 1.456104e-14 \n"
          ]
        }
      ]
    },
    {
      "cell_type": "code",
      "source": [],
      "metadata": {
        "id": "i_4wqztgMAZ-"
      },
      "execution_count": null,
      "outputs": []
    }
  ]
}