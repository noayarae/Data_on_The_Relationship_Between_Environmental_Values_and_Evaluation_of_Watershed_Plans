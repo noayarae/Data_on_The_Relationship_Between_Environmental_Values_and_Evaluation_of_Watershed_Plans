{
  "nbformat": 4,
  "nbformat_minor": 0,
  "metadata": {
    "colab": {
      "provenance": []
    },
    "kernelspec": {
      "name": "ir",
      "display_name": "R"
    },
    "language_info": {
      "name": "R"
    }
  },
  "cells": [
    {
      "cell_type": "markdown",
      "metadata": {
        "id": "CxEqIMB8NuXt"
      },
      "source": [
        "# **Description**:\n",
        "\n",
        "This script was developed to replicate Tables 7, 8, and 9 on the manuscript \"Relationship Between Environmental Values and the Evaluation of Watershed Conservation Plans that Benefit the Community Versus the Individual.\" It is designed to be executed in R.\n",
        "\n",
        "For ease of replication, an R Colab version is also available, allowing users to run the analysis in a cloud-based environment using the R kernel.\n",
        "\n",
        "To prepare the final tables for presentation in the manuscript, the resulting values were formatted in Excel."
      ]
    },
    {
      "cell_type": "markdown",
      "metadata": {
        "id": "fAa-60W7N0yW"
      },
      "source": [
        "------"
      ]
    },
    {
      "cell_type": "markdown",
      "source": [
        "**Analysis:**\n",
        "\n",
        "- Correlation between environmental values and participants’ preferences for conservation plans\n",
        "- Relationship of environmental values and participants’ preferences for conservation plans\n",
        "\n",
        "**Project:**\n",
        "\n",
        "Relationship Between Environmental Values and the Evaluation of Watershed Conservation Plans that Benefit the Community Versus the Individual\n",
        "\n",
        "**Author:**\n",
        "\n",
        "Efrain Noa Yarasca PhD.\n",
        "\n",
        "**Input:**\n",
        "\n",
        "'Rating_of_participants_to_the_suggested_plans.csv'\n",
        "'EPVQ_score_data.csv'\n",
        "\n",
        "**Output:**\n",
        "\n",
        "- Table 7: Correlation Coefficients and p-Values Between the Environmental Values and the Participants Preferences Metric (PPM) for Plans.\n",
        "\n",
        "- Table 8: Variance Inflation Factors (VIF) for Environmental Human Values in Test- and End-Users.\n",
        "\n",
        "- Table 9: Regression Weights, t-Values, and p-Values from the Multi-Linear Regression.\n",
        "# ----------------------------------------------------------------------------#"
      ],
      "metadata": {
        "id": "stM2SSU0tfIe"
      }
    },
    {
      "cell_type": "markdown",
      "metadata": {
        "id": "iP5vPFMosIrT"
      },
      "source": [
        "## Install libraries\n",
        "\n",
        "Installing libraries may take some minutes"
      ]
    },
    {
      "cell_type": "code",
      "source": [
        "install.packages(\"dplyr\", repos = \"http://cran.rstudio.com/\")\n",
        "install.packages(\"tibble\", repos = \"http://cran.rstudio.com/\")\n",
        "install.packages(\"car\", repos = \"http://cran.rstudio.com/\")\n",
        "\n",
        "library(dplyr)\n",
        "library(tibble)\n",
        "library(car)"
      ],
      "metadata": {
        "colab": {
          "base_uri": "https://localhost:8080/"
        },
        "collapsed": true,
        "id": "XFwqIMiDmjCN",
        "outputId": "80f4925e-70a2-448d-a8a4-a2b4b58432d8"
      },
      "execution_count": 5,
      "outputs": [
        {
          "output_type": "stream",
          "name": "stderr",
          "text": [
            "Installing package into ‘/usr/local/lib/R/site-library’\n",
            "(as ‘lib’ is unspecified)\n",
            "\n",
            "also installing the dependencies ‘rbibutils’, ‘cowplot’, ‘Deriv’, ‘microbenchmark’, ‘Rdpack’, ‘numDeriv’, ‘doBy’, ‘SparseM’, ‘MatrixModels’, ‘minqa’, ‘nloptr’, ‘reformulas’, ‘RcppEigen’, ‘carData’, ‘abind’, ‘Formula’, ‘pbkrtest’, ‘quantreg’, ‘lme4’\n",
            "\n",
            "\n",
            "Loading required package: carData\n",
            "\n",
            "\n",
            "Attaching package: ‘car’\n",
            "\n",
            "\n",
            "The following object is masked from ‘package:dplyr’:\n",
            "\n",
            "    recode\n",
            "\n",
            "\n"
          ]
        }
      ]
    },
    {
      "cell_type": "markdown",
      "metadata": {
        "id": "8elxrVCMr_pa"
      },
      "source": [
        "## R code\n"
      ]
    },
    {
      "cell_type": "code",
      "metadata": {
        "id": "CNmtnikVE3nX",
        "collapsed": true
      },
      "source": [
        "# -----------------------------------------------------------------------------\n",
        "# Set working directory\n",
        "setwd(\"D:/work/research_o/paper_02/replica\") # No needed in Colab\n"
      ],
      "execution_count": null,
      "outputs": []
    },
    {
      "cell_type": "markdown",
      "source": [
        "## **Part 1: Get PPM values**"
      ],
      "metadata": {
        "id": "u_eIwvgtub3F"
      }
    },
    {
      "cell_type": "code",
      "source": [
        "# ===================== Part 1: Get PPM values  ====================== #\n",
        "# 1.1. Read the initial dataset.\n",
        "SP_df <- read.csv('Rating_of_participants_to_the_suggested_plans.csv')\n",
        "\n",
        "\n",
        "# 1.2. Reshaping the SP_df before calculations\n",
        "SP_df_transp <- SP_df %>%\n",
        "  select(-Particip) %>%\n",
        "  column_to_rownames(\"pid\") %>%\n",
        "  t() %>%\n",
        "  as.data.frame() %>%\n",
        "  rownames_to_column(\"pid\") %>%\n",
        "  mutate(ID = row_number(), .before = 1)\n",
        "# head(SP_df_transp)\n",
        "\n",
        "\n",
        "\n",
        "# 1.3. Settings and selection of data\n",
        "start_col_num <- 3  # Column 'p1' is at index 3\n",
        "end_col_num <- 79   # Column 'p24' is at index 26\n",
        "column_indices <- start_col_num:end_col_num\n",
        "\n",
        "average_PPMs_vector <- c() # Set an empty vector to store average PPM values (slopes)\n",
        "chunk_size <- 4\n",
        "\n",
        "# 1.4. Compute PPM. Loop through each End-User (from p1 to p24)\n",
        "for (col_index in column_indices) {\n",
        "  slopes <- c()\n",
        "  # Loop through the data in chunks of 4 rows for the current test-user\n",
        "  for (i in 1:(nrow(SP_df_transp)/chunk_size)) {\n",
        "    start_row <- (i - 1) * chunk_size + 1\n",
        "    end_row <- i * chunk_size\n",
        "    chunk_data <- SP_df_transp[start_row:end_row, ]\n",
        "\n",
        "    # Compute the PPM value using linear regression approach\n",
        "    model <- lm(chunk_data[[col_index]] ~ ID, data = chunk_data)\n",
        "    slopes <- c(slopes, -coef(model)[2])\n",
        "  }\n",
        "  average_PPM_for_col <- mean(slopes)\n",
        "  average_PPMs_vector <- c(average_PPMs_vector, average_PPM_for_col)\n",
        "}\n",
        "\n",
        "# 1.5. Print the final vector of average PPM values\n",
        "# cat(\"Average PPMs for columns p1 to p24:\\n\")\n",
        "# cat(paste(round(average_PPMs_vector, 4), collapse = \", \"))\n",
        "\n",
        "# Create a data frame from the average_PPMs_vector\n",
        "ppm_df <- as.data.frame(average_PPMs_vector)\n",
        "colnames(ppm_df) <- \"PPM\"  # Rename the column to 'PPM'\n",
        "user_column <- c(rep(\"end_user\", 24), rep(\"test_user\", 53))  # Create the 'user' column\n",
        "pid_column <- paste0(\"p\", seq_len(length(user_column)))\n",
        "\n",
        "# Create a data frame\n",
        "final_df <- data.frame(\n",
        "  pid = pid_column,\n",
        "  user = user_column,\n",
        "  PPM = average_PPMs_vector\n",
        ")\n",
        "final_df$PPM <- round(final_df$PPM, 3)  # Round the 'PPM'\n",
        "\n",
        "# Print the PMs values\n",
        "#print(final_df)\n",
        "print(head(final_df))\n",
        "# =============================================================================="
      ],
      "metadata": {
        "colab": {
          "base_uri": "https://localhost:8080/"
        },
        "id": "c0ha9jZpllL4",
        "outputId": "a6104359-1cd3-4108-d5b0-39b2ad07b58f"
      },
      "execution_count": 6,
      "outputs": [
        {
          "output_type": "stream",
          "name": "stdout",
          "text": [
            "  pid     user  PPM\n",
            "1  p1 end_user 0.44\n",
            "2  p2 end_user 0.56\n",
            "3  p3 end_user 0.64\n",
            "4  p4 end_user 0.92\n",
            "5  p5 end_user 0.48\n",
            "6  p6 end_user 0.50\n"
          ]
        }
      ]
    },
    {
      "cell_type": "markdown",
      "source": [
        "## **Part 2: Get EPVQ averages by each Human-value**"
      ],
      "metadata": {
        "id": "69jTm9LDujUE"
      }
    },
    {
      "cell_type": "code",
      "source": [
        "# ==============================================================================\n",
        "# =============== Part 2: Get EPVQ averages by each Human-value ================\n",
        "\n",
        "# 2.1. Read the initial dataset.\n",
        "epvq_df <- read.csv('EPVQ_score_data.csv')\n",
        "\n",
        "\n",
        "# 2.2. Reshaping the epvq_df before calculations\n",
        "epvq_df_transp <- epvq_df %>%\n",
        "  select(-Particip) %>%\n",
        "  column_to_rownames(\"pid\") %>%\n",
        "  t() %>%\n",
        "  as.data.frame() %>%\n",
        "  rownames_to_column(\"pid\") %>%\n",
        "  mutate(ID = row_number(), .before = 1)\n",
        "# head(epvq_df_transp)\n",
        "\n",
        "\n",
        "# 2.3. Settings and selection of data\n",
        "row_chunks <- list(\n",
        "  1:4,    # Biospheric\n",
        "  5:9,    # Altruistic\n",
        "  10:12,  # Hedonic\n",
        "  13:17   # Egoistic\n",
        ")\n",
        "\n",
        "# Define the range of columns to process (End-users: p1-p24; Test-users: p25-p77)\n",
        "start_col_name <- \"p1\" # \"p25\" #\n",
        "end_col_name <- \"p77\" # \"p77\" #\n",
        "column_indices <- which(names(epvq_df_transp) == start_col_name):which(names(epvq_df_transp) == end_col_name)\n",
        "column_names <- names(epvq_df_transp)[column_indices]\n",
        "\n",
        "# Initialize a data frame to store the average values\n",
        "average_values_matrix <- matrix(NA, nrow = length(row_chunks), ncol = length(column_names))\n",
        "average_values_df <- as.data.frame(average_values_matrix)\n",
        "names(average_values_df) <- column_names\n",
        "\n",
        "# 2.4. Compute PPM. Loop through each column\n",
        "for (col_index in 1:length(column_names)) {\n",
        "  current_col_name <- column_names[col_index]\n",
        "\n",
        "  # Loop through each Human-value\n",
        "  for (chunk_index in 1:length(row_chunks)) {\n",
        "    chunk_rows <- row_chunks[[chunk_index]]\n",
        "    chunk_data <- epvq_df_transp[chunk_rows, current_col_name]\n",
        "    average_value <- mean(chunk_data)\n",
        "    average_values_df[chunk_index, current_col_name] <- average_value\n",
        "  }\n",
        "}\n",
        "# Print average E-PVQ values\n",
        "print(round(average_values_df, 2))\n",
        "# =============================================================================="
      ],
      "metadata": {
        "colab": {
          "base_uri": "https://localhost:8080/"
        },
        "id": "w6bpLK9JllJH",
        "outputId": "a097d7f4-8e98-4510-918c-93fb83d57b6d"
      },
      "execution_count": 7,
      "outputs": [
        {
          "output_type": "stream",
          "name": "stdout",
          "text": [
            "    p1   p2   p3   p4   p5   p6   p7   p8   p9  p10  p11  p12  p13  p14 p15 p16\n",
            "1 5.25 4.75 6.75 6.25 6.50 5.75 6.00 5.75 6.25 5.50 6.50 5.50 6.25 6.75 4.5 3.5\n",
            "2 6.80 7.00 6.60 6.60 7.00 6.40 6.60 6.40 6.80 5.20 6.80 5.60 6.80 7.00 5.2 6.0\n",
            "3 6.00 6.33 6.67 5.00 6.33 6.33 5.67 5.33 6.00 4.67 6.33 4.67 4.00 7.00 5.0 7.0\n",
            "4 3.00 2.40 5.20 4.40 3.40 4.00 5.80 5.20 2.60 4.00 5.80 4.40 3.80 6.60 5.0 3.6\n",
            "   p17 p18  p19  p20  p21  p22  p23  p24  p25  p26  p27  p28  p29  p30  p31 p32\n",
            "1 4.25 4.5 6.25 5.25 6.25 5.75 6.25 7.00 6.75 5.75 6.00 7.00 5.50 4.25 5.50 7.0\n",
            "2 6.60 7.0 7.00 5.60 6.60 7.00 6.60 7.00 6.40 6.60 6.60 6.80 4.80 5.80 6.20 7.0\n",
            "3 7.00 6.0 7.00 4.67 6.33 6.67 5.00 5.67 6.33 6.33 6.67 5.33 6.33 6.00 5.33 7.0\n",
            "4 3.40 2.8 3.00 4.40 2.60 2.20 4.80 3.40 3.20 6.20 4.20 1.80 4.60 3.20 2.40 3.6\n",
            "   p33 p34  p35  p36  p37 p38 p39  p40  p41 p42  p43  p44 p45  p46 p47 p48  p49\n",
            "1 5.75 4.0 3.75 5.25 4.50 6.5 5.0 4.50 7.00 5.5 7.00 5.75 7.0 6.75 6.5 6.5 6.75\n",
            "2 6.00 6.0 5.60 5.60 5.60 7.0 6.0 6.20 7.00 6.4 6.60 6.20 7.0 7.00 6.4 5.6 6.80\n",
            "3 6.00 7.0 6.33 6.00 6.33 7.0 6.0 5.33 6.67 6.0 6.33 5.33 7.0 7.00 6.0 5.0 6.00\n",
            "4 2.80 4.4 5.40 4.80 4.40 4.6 4.2 4.00 3.80 4.0 4.40 2.00 2.8 5.60 5.8 5.4 4.20\n",
            "   p50 p51 p52  p53  p54  p55  p56 p57  p58  p59  p60 p61  p62 p63 p64  p65 p66\n",
            "1 6.50 7.0 7.0 6.50 6.00 5.50 6.25 5.0 6.75 6.25 6.00   7 6.00 6.5 6.5 5.25 6.5\n",
            "2 6.60 7.0 7.0 6.60 6.80 6.40 7.00 5.2 5.60 6.60 5.80   7 5.80 6.8 7.0 6.00 6.4\n",
            "3 6.67 7.0 7.0 4.67 6.33 5.33 6.67 5.0 6.00 6.67 4.67   7 5.67 6.0 7.0 5.00 7.0\n",
            "4 3.80 4.2 5.4 3.40 3.00 3.40 4.40 3.0 5.20 3.80 4.00   7 4.80 3.2 5.0 2.80 3.8\n",
            "   p67  p68  p69  p70  p71  p72  p73 p74  p75  p76  p77\n",
            "1 4.75 7.00 3.25 4.25 4.50 6.50 6.00 5.5 6.25 6.50 6.25\n",
            "2 4.80 7.00 4.20 5.40 5.20 6.40 6.20 4.2 6.40 6.20 5.80\n",
            "3 4.33 6.67 4.67 5.67 5.33 4.33 6.33 4.0 5.33 6.33 6.00\n",
            "4 4.00 4.40 3.80 2.60 4.40 3.40 3.80 4.4 3.60 4.60 4.40\n"
          ]
        }
      ]
    },
    {
      "cell_type": "markdown",
      "source": [
        "## **Part 3: Combine EPVQ and PPM into one df**"
      ],
      "metadata": {
        "id": "p-ZU7pCbuo8O"
      }
    },
    {
      "cell_type": "code",
      "source": [
        "# ================= Part 3: Combine EPVQ and PPM into one df ===================\n",
        "# Transpose, convert to data frame, and assign column names\n",
        "avg_df_t <- as.data.frame(t(average_values_df))\n",
        "colnames(avg_df_t) <- c(\"Bio\", \"Alt\", \"Hed\", \"Ego\")\n",
        "avg_df_t$pid <- rownames(avg_df_t) # Add 'pid' from row names\n",
        "avg_df_t$user <- c(rep(\"end_user\", 24), rep(\"test_user\", 53)) # Add 'user' column\n",
        "avg_df_t$PPM <- average_PPMs_vector # Add the PPM column\n",
        "avg_df_t$Hed <- round(avg_df_t$Hed, 2) # Round 'Hed' values\n",
        "avg_df_t <- avg_df_t[, c(\"pid\", \"user\", \"Bio\", \"Alt\", \"Hed\", \"Ego\", \"PPM\")] # Reorder columns\n",
        "\n",
        "# Print result\n",
        "#print(avg_df_t)\n",
        "print(head(avg_df_t))\n",
        "# =============================================================================="
      ],
      "metadata": {
        "colab": {
          "base_uri": "https://localhost:8080/"
        },
        "id": "X9ebntVqllGi",
        "outputId": "28dc58aa-826c-4f30-ce86-a2688dfc52ce"
      },
      "execution_count": 8,
      "outputs": [
        {
          "output_type": "stream",
          "name": "stdout",
          "text": [
            "   pid     user  Bio Alt  Hed Ego  PPM\n",
            "p1  p1 end_user 5.25 6.8 6.00 3.0 0.44\n",
            "p2  p2 end_user 4.75 7.0 6.33 2.4 0.56\n",
            "p3  p3 end_user 6.75 6.6 6.67 5.2 0.64\n",
            "p4  p4 end_user 6.25 6.6 5.00 4.4 0.92\n",
            "p5  p5 end_user 6.50 7.0 6.33 3.4 0.48\n",
            "p6  p6 end_user 5.75 6.4 6.33 4.0 0.50\n"
          ]
        }
      ]
    },
    {
      "cell_type": "markdown",
      "source": [
        "## **Part 4. Get Table 7**"
      ],
      "metadata": {
        "id": "o8qngQ2outRV"
      }
    },
    {
      "cell_type": "code",
      "source": [
        "# =========================== Part 4. Get Table 7 ==============================\n",
        "# Table 7: Correlation Coef and p-Values Between Environmental Values and Participants Preferences Metric (PPM)\n",
        "\n",
        "# ------------------ For Test-users --------------------\n",
        "test_user_data <- avg_df_t %>%\n",
        "  filter(user == \"test_user\") %>%\n",
        "  mutate(across(c(PPM, Bio, Alt, Hed, Ego), as.numeric))\n",
        "\n",
        "human_vals <- c(\"Bio\", \"Alt\", \"Hed\", \"Ego\")\n",
        "# Initialize list to store results\n",
        "results_list <- lapply(human_vals, function(feature) {\n",
        "  pearson <- cor.test(test_user_data$PPM, test_user_data[[feature]], method = \"pearson\")\n",
        "  spearman <- cor.test(test_user_data$PPM, test_user_data[[feature]], method = \"spearman\")\n",
        "\n",
        "  data.frame(\n",
        "    Human_value = feature,\n",
        "    `p-value` = pearson$p.value,\n",
        "    pearson = pearson$estimate,\n",
        "    Spearman = spearman$estimate,\n",
        "    Confid_interval = paste0(\"(\", round(pearson$conf.int[1], 3), \", \", round(pearson$conf.int[2], 3), \")\"),\n",
        "    stringsAsFactors = FALSE\n",
        "  )\n",
        "})\n",
        "\n",
        "# Combine all into a single df and print results\n",
        "results_df <- do.call(rbind, results_list)\n",
        "print(results_df, row.names = FALSE)  # Print Table 7 for Test-users\n",
        "\n",
        "\n",
        "# ---------------------- For End-users ----------------------\n",
        "end_user_data <- avg_df_t %>%\n",
        "  filter(user == \"end_user\") %>%\n",
        "  mutate(across(c(PPM, Bio, Alt, Hed, Ego), as.numeric))\n",
        "\n",
        "human_vals <- c(\"Bio\", \"Alt\", \"Hed\", \"Ego\")\n",
        "# Initialize list to store results\n",
        "results_list <- lapply(human_vals, function(feature) {\n",
        "  pearson <- cor.test(end_user_data$PPM, end_user_data[[feature]], method = \"pearson\")\n",
        "  spearman <- cor.test(end_user_data$PPM, end_user_data[[feature]], method = \"spearman\")\n",
        "\n",
        "  data.frame(\n",
        "    Human_value = feature,\n",
        "    `p-value` = pearson$p.value,\n",
        "    pearson = pearson$estimate,\n",
        "    Spearman = spearman$estimate,\n",
        "    Confid_interval = paste0(\"(\", round(pearson$conf.int[1], 3), \", \", round(pearson$conf.int[2], 3), \")\"),\n",
        "    stringsAsFactors = FALSE\n",
        "  )\n",
        "})\n",
        "\n",
        "# Combine all into a single df and print results\n",
        "results_df <- do.call(rbind, results_list)\n",
        "print(results_df, row.names = FALSE) # Print Table 7 for End-users\n",
        "# =============================================================================="
      ],
      "metadata": {
        "colab": {
          "base_uri": "https://localhost:8080/"
        },
        "id": "TQHRln8rnAMV",
        "outputId": "76b7b4d6-0476-407b-87ca-1723539a699e"
      },
      "execution_count": 9,
      "outputs": [
        {
          "output_type": "stream",
          "name": "stderr",
          "text": [
            "Warning message in cor.test.default(test_user_data$PPM, test_user_data[[feature]], :\n",
            "“Cannot compute exact p-value with ties”\n",
            "Warning message in cor.test.default(test_user_data$PPM, test_user_data[[feature]], :\n",
            "“Cannot compute exact p-value with ties”\n",
            "Warning message in cor.test.default(test_user_data$PPM, test_user_data[[feature]], :\n",
            "“Cannot compute exact p-value with ties”\n",
            "Warning message in cor.test.default(test_user_data$PPM, test_user_data[[feature]], :\n",
            "“Cannot compute exact p-value with ties”\n"
          ]
        },
        {
          "output_type": "stream",
          "name": "stdout",
          "text": [
            " Human_value      p.value     pearson    Spearman  Confid_interval\n",
            "         Bio 1.073426e-02 -0.34771978 -0.27381577 (-0.565, -0.085)\n",
            "         Alt 3.785996e-05 -0.53423643 -0.43025563 (-0.703, -0.308)\n",
            "         Hed 5.590002e-01 -0.08208522 -0.04049995  (-0.345, 0.192)\n",
            "         Ego 4.312456e-04  0.46641701  0.52740521   (0.224, 0.654)\n"
          ]
        },
        {
          "output_type": "stream",
          "name": "stderr",
          "text": [
            "Warning message in cor.test.default(end_user_data$PPM, end_user_data[[feature]], :\n",
            "“Cannot compute exact p-value with ties”\n",
            "Warning message in cor.test.default(end_user_data$PPM, end_user_data[[feature]], :\n",
            "“Cannot compute exact p-value with ties”\n",
            "Warning message in cor.test.default(end_user_data$PPM, end_user_data[[feature]], :\n",
            "“Cannot compute exact p-value with ties”\n",
            "Warning message in cor.test.default(end_user_data$PPM, end_user_data[[feature]], :\n",
            "“Cannot compute exact p-value with ties”\n"
          ]
        },
        {
          "output_type": "stream",
          "name": "stdout",
          "text": [
            " Human_value      p.value    pearson   Spearman  Confid_interval\n",
            "         Bio 6.932064e-02 -0.3770625 -0.3019452  (-0.677, 0.031)\n",
            "         Alt 5.225873e-05 -0.7295534 -0.6245490 (-0.875, -0.462)\n",
            "         Hed 1.226159e-01 -0.3238701 -0.2318939  (-0.643, 0.091)\n",
            "         Ego 1.744017e-02  0.4806191  0.5938948    (0.096, 0.74)\n"
          ]
        }
      ]
    },
    {
      "cell_type": "markdown",
      "source": [
        "## **Part 5: Get Table 8**"
      ],
      "metadata": {
        "id": "WNy5jZYXuxbp"
      }
    },
    {
      "cell_type": "code",
      "source": [
        "# =========================== Part 5: Get Table 8 =============================\n",
        "# Table 8: Variance Inflation Factors (VIF) for Env. Human Values in Test- and End-Users\n",
        "# install.packages(\"car\", repos = \"http://cran.rstudio.com/\")\n",
        "# library(car)\n",
        "\n",
        "# -------------------- For Test-user\n",
        "LR_test_user <- lm(PPM ~ Bio + Alt + Hed + Ego, data=test_user_data)\n",
        "vif_test_user <- vif(LR_test_user)   # Compute VIF\n",
        "print(vif_test_user)    # Print VIF values\n",
        "\n",
        "# -------------------- For End-user\n",
        "LR_end_user <- lm(PPM ~ Bio + Alt + Hed + Ego, data=end_user_data)\n",
        "vif_end_user <- vif(LR_end_user)   # Compute VIF\n",
        "print(vif_end_user)    # Print VIF values\n",
        "# =============================================================================="
      ],
      "metadata": {
        "colab": {
          "base_uri": "https://localhost:8080/"
        },
        "id": "6zS46PRBllEQ",
        "outputId": "5f38db03-2351-4e1c-e343-0aeaa8ffcd44"
      },
      "execution_count": 10,
      "outputs": [
        {
          "output_type": "stream",
          "name": "stdout",
          "text": [
            "     Bio      Alt      Hed      Ego \n",
            "2.153851 3.265374 2.068175 1.244434 \n",
            "     Bio      Alt      Hed      Ego \n",
            "1.762713 2.298034 1.595638 1.355064 \n"
          ]
        }
      ]
    },
    {
      "cell_type": "markdown",
      "source": [
        "## **Part 6: Get Table 9**"
      ],
      "metadata": {
        "id": "QakUlc57u1bq"
      }
    },
    {
      "cell_type": "code",
      "source": [
        "# ==============================================================================\n",
        "# ======================= Part 6: Get Table 9 ============================\n",
        "# Table 9: Regression Weights, t-Values, and p-Values from the Regression Between\n",
        "#          the Environmental Values and the Participant Preference Metric (PPM)\n",
        "\n",
        "# -------------------- For Test-user\n",
        "LR_test_user <- lm(PPM ~ Bio + Alt + Hed + Ego, data=test_user_data)\n",
        "# summary(LR_test_user)\n",
        "print(summary(LR_test_user)$coefficients)\n",
        "\n",
        "\n",
        "# -------------------- For End-user\n",
        "LR_end_user <- lm(PPM ~ Bio + Alt + Hed + Ego, data=end_user_data)\n",
        "# summary(LR_test_user)\n",
        "print(summary(LR_end_user)$coefficients)\n",
        "# =============================================================================="
      ],
      "metadata": {
        "colab": {
          "base_uri": "https://localhost:8080/"
        },
        "id": "NPzdYuCyllBc",
        "outputId": "843104a8-fca7-4254-db3c-9caa988edbef"
      },
      "execution_count": 11,
      "outputs": [
        {
          "output_type": "stream",
          "name": "stdout",
          "text": [
            "                Estimate Std. Error    t value     Pr(>|t|)\n",
            "(Intercept)  1.457127025 0.29486706  4.9416405 9.831611e-06\n",
            "Bio          0.005651481 0.04691175  0.1204705 9.046133e-01\n",
            "Alt         -0.307231818 0.07810917 -3.9333642 2.689835e-04\n",
            "Hed          0.082235113 0.05454744  1.5075888 1.382138e-01\n",
            "Ego          0.129460101 0.03377673  3.8328188 3.682868e-04\n",
            "                Estimate Std. Error     t value     Pr(>|t|)\n",
            "(Intercept)  2.754867136 0.55112802  4.99859752 7.974911e-05\n",
            "Bio         -0.106173292 0.06164423 -1.72235559 1.012442e-01\n",
            "Alt         -0.271467436 0.11036662 -2.45968777 2.366345e-02\n",
            "Hed         -0.005272481 0.05919541 -0.08906908 9.299592e-01\n",
            "Ego          0.116287751 0.04043406  2.87598501 9.675539e-03\n"
          ]
        }
      ]
    }
  ]
}